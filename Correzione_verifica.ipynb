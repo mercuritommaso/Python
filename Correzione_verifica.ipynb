{
  "nbformat": 4,
  "nbformat_minor": 0,
  "metadata": {
    "colab": {
      "name": "Correzione verifica.ipynb",
      "provenance": [],
      "collapsed_sections": []
    },
    "kernelspec": {
      "name": "python3",
      "display_name": "Python 3"
    },
    "language_info": {
      "name": "python"
    }
  },
  "cells": [
    {
      "cell_type": "markdown",
      "metadata": {
        "id": "9G05YPPz7B27"
      },
      "source": [
        "1) Dati 3 numeri, calcolo la media e la visualizzo"
      ]
    },
    {
      "cell_type": "code",
      "metadata": {
        "colab": {
          "base_uri": "https://localhost:8080/"
        },
        "id": "yxs901so7gPr",
        "outputId": "39671062-47bd-4353-dd12-4459196f95ec"
      },
      "source": [
        "n1 = int(input(\"inserisci primo numero: \"))\n",
        "n2 = int(input(\"inserisci secondo numero: \"))\n",
        "n3 = int(input(\"inserisci terzo numero: \"))\n",
        "media = (n1 + n2 + n3)/3\n",
        "print('La media dei tre numeri è %0.2f' %media)\n"
      ],
      "execution_count": null,
      "outputs": [
        {
          "output_type": "stream",
          "name": "stdout",
          "text": [
            "inserisci primo numero: 2\n",
            "inserisci secondo numero: 2\n",
            "inserisci terzo numero: 2\n",
            "La media dei tre numeri è 2.00\n"
          ]
        }
      ]
    },
    {
      "cell_type": "markdown",
      "metadata": {
        "id": "Ts8pClUAAnqf"
      },
      "source": [
        "2) dato il raggio calcolo l'area del cerchio con 2 cifre decimali"
      ]
    },
    {
      "cell_type": "code",
      "metadata": {
        "colab": {
          "base_uri": "https://localhost:8080/"
        },
        "id": "44K5oJw5Avl-",
        "outputId": "1a10b45a-2658-4cb3-86a0-de1785058266"
      },
      "source": [
        "import math\n",
        "raggio = int(input(\"inserire il raggio:\"))\n",
        "area = raggio**2*math.pi\n",
        "print(round(area))\n"
      ],
      "execution_count": null,
      "outputs": [
        {
          "output_type": "stream",
          "name": "stdout",
          "text": [
            "inserire il raggio:22\n",
            "1521\n"
          ]
        }
      ]
    },
    {
      "cell_type": "markdown",
      "metadata": {
        "id": "9bG9K6LjDNUR"
      },
      "source": [
        "3) dato il nome e cognome visualizzo nome e cognome un maiuscolo e saluto utente\n"
      ]
    },
    {
      "cell_type": "code",
      "metadata": {
        "colab": {
          "base_uri": "https://localhost:8080/"
        },
        "id": "eLqf0IZrDstZ",
        "outputId": "22fabc23-241a-46c2-d399-38235c38f476"
      },
      "source": [
        "nomecognome = input(\"inserisci il tuo nome e cognome: \")\n",
        "x = nomecognome.title()\n",
        "print (\"Ciao\", x)"
      ],
      "execution_count": null,
      "outputs": [
        {
          "output_type": "stream",
          "name": "stdout",
          "text": [
            "inserisci il tuo nome e cognome: cc cc\n",
            "Ciao Cc Cc\n"
          ]
        }
      ]
    },
    {
      "cell_type": "markdown",
      "metadata": {
        "id": "zNEjGJpOFclk"
      },
      "source": [
        "4) tenere conto delle parole presenti e calcolo numero\n"
      ]
    },
    {
      "cell_type": "code",
      "metadata": {
        "colab": {
          "base_uri": "https://localhost:8080/"
        },
        "id": "puoIjSM3Fjdk",
        "outputId": "637e19d1-0c86-4be5-e345-e666ade0898a"
      },
      "source": [
        "frase = input(\"inserisci la frase: \")\n",
        "res = len(frase.split())\n",
        "print (\"Il numero di parole in questa frase è : \" +  str(res))"
      ],
      "execution_count": null,
      "outputs": [
        {
          "output_type": "stream",
          "name": "stdout",
          "text": [
            "inserisci la frase: ciao ciao\n",
            "Il numero di parole in questa frase è : 2\n"
          ]
        }
      ]
    },
    {
      "cell_type": "markdown",
      "metadata": {
        "id": "2zR_mq7L4enZ"
      },
      "source": [
        "oppure"
      ]
    },
    {
      "cell_type": "code",
      "metadata": {
        "colab": {
          "base_uri": "https://localhost:8080/"
        },
        "id": "INxxl9QBGuid",
        "outputId": "fde9c3c2-0103-4da8-bab5-afa48178e6f2"
      },
      "source": [
        "print(len(input(\"inserisci la frase:\").split()))"
      ],
      "execution_count": null,
      "outputs": [
        {
          "output_type": "stream",
          "name": "stdout",
          "text": [
            "inserisci la frase:ciao ciao\n",
            "2\n"
          ]
        }
      ]
    },
    {
      "cell_type": "markdown",
      "metadata": {
        "id": "3A4wNRXgG6lF"
      },
      "source": [
        "5) data una frase visualizzare le parole presenti in ordine alfabetico\n",
        "\n"
      ]
    },
    {
      "cell_type": "code",
      "metadata": {
        "id": "THk5keHnHAvz",
        "colab": {
          "base_uri": "https://localhost:8080/"
        },
        "outputId": "fd621f6c-68b2-493d-eaf7-c1212c66edcc"
      },
      "source": [
        "frase = input(\"inserisci la frase: \")\n",
        "parole = frase.split()\n",
        "parole.sort()\n",
        "for pr in parole:\n",
        "    print(pr)"
      ],
      "execution_count": null,
      "outputs": [
        {
          "output_type": "stream",
          "name": "stdout",
          "text": [
            "inserisci la frase: e d c a o z p b d\n",
            "a\n",
            "b\n",
            "c\n",
            "d\n",
            "d\n",
            "e\n",
            "o\n",
            "p\n",
            "z\n"
          ]
        }
      ]
    },
    {
      "cell_type": "markdown",
      "metadata": {
        "id": "1QnjJt-aIMyV"
      },
      "source": [
        "6) Data una frase visualizzare le ultime tre parole"
      ]
    },
    {
      "cell_type": "code",
      "metadata": {
        "colab": {
          "base_uri": "https://localhost:8080/"
        },
        "id": "YPLOyAHgITu9",
        "outputId": "d02bb561-e80c-41ae-c79f-b341a740583c"
      },
      "source": [
        "frase = input(\"inserisci la frase: \")\n",
        "listaParole = frase.split()\n",
        "print(listaParole[-3:])"
      ],
      "execution_count": null,
      "outputs": [
        {
          "output_type": "stream",
          "name": "stdout",
          "text": [
            "inserisci la frasecane lupo ciao ogni lunedi\n",
            "['ciao', 'ogni', 'lunedi']\n"
          ]
        }
      ]
    },
    {
      "cell_type": "markdown",
      "metadata": {
        "id": "TOQUVkAqKnWM"
      },
      "source": [
        "7) scrivere una frase e visualizzare il messaggio troppo corta o troppo lunga e ok se ha un numero di parole compreso tra 5 e 10:"
      ]
    },
    {
      "cell_type": "code",
      "metadata": {
        "colab": {
          "base_uri": "https://localhost:8080/"
        },
        "id": "0ueh07xKKvtj",
        "outputId": "de9b6f1e-f43a-4a4a-fc11-fdc8bb4047d8"
      },
      "source": [
        "frase = input(\"inserisci la frase: \")\n",
        "listaParole = frase.split()\n",
        "if len(listaParole) <= 5:\n",
        "  print (\"troppo corta\")\n",
        "elif len(listaParole) >= 10:\n",
        "  print (\"troppo lunga\")\n",
        "else:\n",
        "  print (\"ok\")"
      ],
      "execution_count": null,
      "outputs": [
        {
          "output_type": "stream",
          "name": "stdout",
          "text": [
            "inserisci la frase: ciao ciao ciao ciao ciao ciao\n",
            "ok\n"
          ]
        }
      ]
    },
    {
      "cell_type": "markdown",
      "metadata": {
        "id": "BfK_q_p35qIx"
      },
      "source": [
        "8) programma che prende 10 numeri e visualizzo media. NO 10 VAR "
      ]
    },
    {
      "cell_type": "code",
      "metadata": {
        "colab": {
          "base_uri": "https://localhost:8080/"
        },
        "id": "hMgOpf8g6z3h",
        "outputId": "ecaf9293-9e18-4e65-b5fb-39b6e1f85a3c"
      },
      "source": [
        "numeri = input(\"Inserisci 10 numeri divisi da una virgola (Es: 2, 3, 4...): \").split(\", \")\n",
        "numeri= [int(i) for i in numeri]\n",
        "if len(numeri) < 10:\n",
        "  print (\"Attenzione, devi inserire 10 numeri.\")\n",
        "elif len(numeri) > 10:\n",
        "  print (\"Attenzione, il numero massimo è 10 numeri.\")\n",
        "else:\n",
        "  somma = sum(numeri)\n",
        "  lunghezza = len(numeri)\n",
        "  media = somma/lunghezza\n",
        "  print(\"La media dei tuoi numeri è:\", media)\n"
      ],
      "execution_count": null,
      "outputs": [
        {
          "output_type": "stream",
          "name": "stdout",
          "text": [
            "Inserisci 10 numeri divisi da una virgola (Es: 2, 3, 4...): 1, 3, 5, 3, 4, 4, 4, 4, 4, 4\n",
            "La media dei tuoi numeri è: 3.6\n"
          ]
        }
      ]
    },
    {
      "cell_type": "markdown",
      "metadata": {
        "id": "kMDdyh8yCXOC"
      },
      "source": [
        "9) Faccio una funzione che indichi se pari o dispari con true o false. Poi faccio un programma che acquisisce un numero e indica se pari o dispari. "
      ]
    },
    {
      "cell_type": "markdown",
      "metadata": {
        "id": "ykYfjZlmEJGT"
      },
      "source": [
        "Funzione pari dispari"
      ]
    },
    {
      "cell_type": "code",
      "metadata": {
        "colab": {
          "base_uri": "https://localhost:8080/"
        },
        "id": "MyEnmgONEICr",
        "outputId": "5e1f04b8-66a8-4f78-da30-591bf152a9ae"
      },
      "source": [
        "n = 2\n",
        "if(n%2==0):\n",
        "  print(\"true\")\n",
        "else:\n",
        "  print(\"false\")"
      ],
      "execution_count": null,
      "outputs": [
        {
          "output_type": "stream",
          "name": "stdout",
          "text": [
            "Inserisci un numero2\n",
            "true\n"
          ]
        }
      ]
    },
    {
      "cell_type": "markdown",
      "metadata": {
        "id": "-LGCS56lELPr"
      },
      "source": [
        "Programma"
      ]
    },
    {
      "cell_type": "code",
      "metadata": {
        "colab": {
          "base_uri": "https://localhost:8080/"
        },
        "id": "QqNDwipVD8c0",
        "outputId": "3ff5b8c6-a8d2-407f-a6a9-df1bfc9d1211"
      },
      "source": [
        "n = int(input(\"Inserisci un numero: \"))\n",
        "if(n%2==0):\n",
        "  print(\"pari\")\n",
        "else:\n",
        "  print(\"dispari\")"
      ],
      "execution_count": null,
      "outputs": [
        {
          "output_type": "stream",
          "name": "stdout",
          "text": [
            "Inserisci un numero: 0\n",
            "pari\n"
          ]
        }
      ]
    }
  ]
}