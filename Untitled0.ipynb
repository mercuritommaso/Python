{
  "nbformat": 4,
  "nbformat_minor": 0,
  "metadata": {
    "colab": {
      "name": "Untitled0.ipynb",
      "provenance": [],
      "collapsed_sections": []
    },
    "kernelspec": {
      "name": "python3",
      "display_name": "Python 3"
    },
    "language_info": {
      "name": "python"
    }
  },
  "cells": [
    {
      "cell_type": "markdown",
      "metadata": {
        "id": "D1ypbeYeFndz"
      },
      "source": [
        "scrivere un programma che carichi in una lista di 10 città italiane e le visualizzi ordinandole in base alla lunghezza del nome (crescente e decrescente)"
      ]
    },
    {
      "cell_type": "code",
      "metadata": {
        "colab": {
          "base_uri": "https://localhost:8080/"
        },
        "id": "qShk0XlsFOLC",
        "outputId": "d374539a-f35b-4aca-8b3a-8ac0ed3d5fd4"
      },
      "source": [
        "citta = [\"Roma\", \"Como\", \"Bra\"]\n",
        "citta_crescente = sorted(citta,key = len)\n",
        "print(citta_crescente)\n",
        "citta_crescente.reverse()\n",
        "print(citta_crescente)\n"
      ],
      "execution_count": null,
      "outputs": [
        {
          "output_type": "stream",
          "name": "stdout",
          "text": [
            "['Bra', 'Roma', 'Como']\n",
            "['Como', 'Roma', 'Bra']\n"
          ]
        }
      ]
    },
    {
      "cell_type": "markdown",
      "metadata": {
        "id": "vYLzBL_sHQ3S"
      },
      "source": [
        "scrivere un programma che carichi in una lista di 10 città italiane e ne elimini i doppioni"
      ]
    },
    {
      "cell_type": "code",
      "metadata": {
        "colab": {
          "base_uri": "https://localhost:8080/"
        },
        "id": "PQfS0DsGHYOp",
        "outputId": "2df50387-8f98-42fc-b5e5-0a56580e0798"
      },
      "source": [
        "citta.extend([\"lecco\", \"Milano\", \"Milano\"])\n",
        "print(citta)\n",
        "cittaFinale = list(dict.fromkeys(citta))\n",
        "print(cittaFinale)"
      ],
      "execution_count": null,
      "outputs": [
        {
          "output_type": "stream",
          "name": "stdout",
          "text": [
            "['Roma', 'Como', 'Bra', 'lecco', 'Milano', 'Milano']\n",
            "['Roma', 'Como', 'Bra', 'lecco', 'Milano']\n"
          ]
        }
      ]
    },
    {
      "cell_type": "markdown",
      "metadata": {
        "id": "n7zFNs8mJoca"
      },
      "source": [
        "Scrivere un programma che "
      ]
    },
    {
      "cell_type": "code",
      "metadata": {
        "colab": {
          "base_uri": "https://localhost:8080/"
        },
        "id": "D3JsfyfpNHz6",
        "outputId": "b8c724f3-8add-494c-e190-c86d001b76ce"
      },
      "source": [
        "citta1 = [\"Roma\", \"Como\", \"Bra\", \"Bari\", \"Milano\", \"Pisa\", \"ccs\"]\n",
        "citta2 = [\"Roma\", \"Como\", \"Bra\", \"Bari\", \"Milano\", \"Pisa\"]\n",
        "cittaComuni = list(set(citta1).intersection(set(citta2)))\n",
        "print(cittaComuni)"
      ],
      "execution_count": null,
      "outputs": [
        {
          "output_type": "stream",
          "name": "stdout",
          "text": [
            "['Roma', 'Pisa', 'Bra', 'Bari', 'Milano', 'Como']\n"
          ]
        }
      ]
    },
    {
      "cell_type": "markdown",
      "metadata": {
        "id": "tuxUcsqlPSir"
      },
      "source": [
        ""
      ]
    },
    {
      "cell_type": "code",
      "metadata": {
        "colab": {
          "base_uri": "https://localhost:8080/"
        },
        "id": "cwszbmSziPGT",
        "outputId": "44eb721d-efc9-4bf7-df79-0473bcf42ff1"
      },
      "source": [
        "d = {'Lecco': 'Lombardia', 'Bari':'Puglia', 'Roma':'Lazio', 'Pisa':'Toscana', 'Como':'Lombardia', 'Bra':'Piemonte'}\n",
        "for i in d:\n",
        "    print(i,\"si trova in\", d[i])"
      ],
      "execution_count": null,
      "outputs": [
        {
          "output_type": "stream",
          "name": "stdout",
          "text": [
            "Lecco si trova in Lombardia\n",
            "Bari si trova in Puglia\n",
            "Roma si trova in Lazio\n",
            "Pisa si trova in Toscana\n",
            "Como si trova in Lombardia\n",
            "Bra si trova in Piemonte\n"
          ]
        }
      ]
    },
    {
      "cell_type": "markdown",
      "metadata": {
        "id": "-v6vntQMZGao"
      },
      "source": [
        ""
      ]
    },
    {
      "cell_type": "code",
      "metadata": {
        "colab": {
          "base_uri": "https://localhost:8080/"
        },
        "id": "9up_BXQpecBv",
        "outputId": "0573577e-6cfd-4fe6-b076-ccc32464241d"
      },
      "source": [
        "citta = input(\"inserisci citta\")\n",
        "d = {'Lecco': 'Lombardia', 'Bari':'Puglia', 'Roma':'Lazio', 'Pisa':'Toscana', 'Como':'Lombardia', 'Bra':'Piemonte'}\n",
        "print(\"si trova in %s\" % d.get(citta))"
      ],
      "execution_count": null,
      "outputs": [
        {
          "output_type": "stream",
          "name": "stdout",
          "text": [
            "inserisci cittaLecco\n",
            "si trova in Lombardia\n"
          ]
        }
      ]
    },
    {
      "cell_type": "markdown",
      "metadata": {
        "id": "D8ypWFnTjNdV"
      },
      "source": [
        "23) Programma che carichi in una lista tutti i numeri pari minori di 100"
      ]
    },
    {
      "cell_type": "code",
      "metadata": {
        "colab": {
          "base_uri": "https://localhost:8080/"
        },
        "id": "pcA08zJAjODw",
        "outputId": "d9cc3d7f-26dd-4e58-9f95-b2ba7c7863da"
      },
      "source": [
        "n_pari = []\n",
        "for i in range(100, 0, -2):\n",
        "  if(i % 2 ==0):\n",
        "    n_pari.append(i)\n",
        "print(n_pari)"
      ],
      "execution_count": null,
      "outputs": [
        {
          "output_type": "stream",
          "name": "stdout",
          "text": [
            "[100, 98, 96, 94, 92, 90, 88, 86, 84, 82, 80, 78, 76, 74, 72, 70, 68, 66, 64, 62, 60, 58, 56, 54, 52, 50, 48, 46, 44, 42, 40, 38, 36, 34, 32, 30, 28, 26, 24, 22, 20, 18, 16, 14, 12, 10, 8, 6, 4, 2]\n"
          ]
        }
      ]
    },
    {
      "cell_type": "markdown",
      "metadata": {
        "id": "Ry1IwEZsbr_2"
      },
      "source": [
        "24) Estremi"
      ]
    },
    {
      "cell_type": "code",
      "metadata": {
        "colab": {
          "base_uri": "https://localhost:8080/"
        },
        "id": "GK6bYgA3ZF9o",
        "outputId": "99cec5b5-e82c-46ce-eea6-6ef5a54cdd97"
      },
      "source": [
        "ls = []\n",
        "ls1 = []\n",
        "x = int(input(\"Inserisci primo estremo:\"))\n",
        "y = int(input(\"Inserisci secondo estremo:\"))\n",
        "i = range (x, y)\n",
        "for n in i:\n",
        "  ls.append(n)\n",
        "  if (n % 3==0):\n",
        "     ls1.append(n)\n",
        "print(ls1)\n",
        "print(ls)\n"
      ],
      "execution_count": null,
      "outputs": [
        {
          "output_type": "stream",
          "name": "stdout",
          "text": [
            "Inserisci primo numero:3\n",
            "Inserisci secondo numero:6\n",
            "[3]\n",
            "[3, 4, 5]\n"
          ]
        }
      ]
    },
    {
      "cell_type": "markdown",
      "metadata": {
        "id": "Safx1Ap9kcXr"
      },
      "source": [
        "25)"
      ]
    },
    {
      "cell_type": "code",
      "metadata": {
        "colab": {
          "base_uri": "https://localhost:8080/"
        },
        "id": "89XqtP6Skelb",
        "outputId": "4187eadd-f864-453b-99b6-0c1da229d2d0"
      },
      "source": [
        "lst = []\n",
        "n = int(input(\"Inserisci numero di elementi: \"))\n",
        "for i in range(0, n):\n",
        "    ele = int(input())\n",
        "    if (ele % 10==0):\n",
        "      lst.append(ele)\n",
        "print(lst)"
      ],
      "execution_count": null,
      "outputs": [
        {
          "output_type": "stream",
          "name": "stdout",
          "text": [
            "Inserisci numero di elementi: 4\n",
            "2\n",
            "30\n",
            "40\n",
            "50\n",
            "[30, 40, 50]\n"
          ]
        }
      ]
    },
    {
      "cell_type": "markdown",
      "metadata": {
        "id": "ZPlYMnTykfS7"
      },
      "source": [
        "26)"
      ]
    },
    {
      "cell_type": "code",
      "metadata": {
        "id": "MyGc9LGMmPWv"
      },
      "source": [
        "x = 10\n",
        "def incrementa(x):\n",
        "  x = x +10\n",
        "  return x\n",
        "  incrementa(x)"
      ],
      "execution_count": null,
      "outputs": []
    },
    {
      "cell_type": "code",
      "metadata": {
        "colab": {
          "base_uri": "https://localhost:8080/"
        },
        "id": "F5bwjFNhmn0r",
        "outputId": "cd46d6ba-e2fe-42c2-c1e6-98867472a991"
      },
      "source": [
        "import random\n",
        "randomlist = []\n",
        "randomlistincrementata = []\n",
        "for i in range(0,20):\n",
        "  n = random.randint(1,100)\n",
        "  randomlist.append(n)\n",
        "  z = incrementa(n)\n",
        "  randomlistincrementata.append(z)\n",
        "\n",
        "print(\"lista originale \",randomlist)\n",
        "print(\"lista incrementata \",randomlistincrementata)\n"
      ],
      "execution_count": null,
      "outputs": [
        {
          "output_type": "stream",
          "name": "stdout",
          "text": [
            "lista originale  [82, 42, 44, 20, 65, 54, 96, 4, 76, 72, 27, 64, 10, 13, 75, 78, 78, 49, 18, 11]\n",
            "lista incrementata  [92, 52, 54, 30, 75, 64, 106, 14, 86, 82, 37, 74, 20, 23, 85, 88, 88, 59, 28, 21]\n"
          ]
        }
      ]
    }
  ]
}