{
  "nbformat": 4,
  "nbformat_minor": 0,
  "metadata": {
    "colab": {
      "name": "Copia di Funzioni.ipynb",
      "provenance": [],
      "collapsed_sections": []
    },
    "kernelspec": {
      "name": "python3",
      "display_name": "Python 3"
    },
    "language_info": {
      "name": "python"
    }
  },
  "cells": [
    {
      "cell_type": "code",
      "metadata": {
        "id": "wGGPS4GPW8w8"
      },
      "source": [
        "1. scrivere una funzione chiamata media che dati due numeri restituisca la media. Utilizzare poi la funzione in un programma che acquisisca dall'utente due numeri e calcoli la media"
      ],
      "execution_count": null,
      "outputs": []
    },
    {
      "cell_type": "code",
      "metadata": {
        "colab": {
          "base_uri": "https://localhost:8080/"
        },
        "id": "OlSGXWNkXEvX",
        "outputId": "55e128b8-6ee1-41b7-d63d-442fedb7eabb"
      },
      "source": [
        "# Definizione funzione\n",
        "def media(x, y):\n",
        "  return (x+y)/2\n",
        "\n",
        "# Programma\n",
        "n1 =int (input(\"insert the first value:\"))\n",
        "n2 =int (input(\"insert the second value:\"))\n",
        "print(media(n1, n2))\n",
        "media2 = lambda x,y : (x+y)/2\n",
        "print(media2(n1, n2))\n"
      ],
      "execution_count": null,
      "outputs": [
        {
          "output_type": "stream",
          "name": "stdout",
          "text": [
            "insert the first value:3\n",
            "insert the second value:6\n",
            "4.5\n",
            "4.5\n"
          ]
        }
      ]
    },
    {
      "cell_type": "markdown",
      "metadata": {
        "id": "GnGAcl7wZt7X"
      },
      "source": [
        "2. scrivere una funzione chiamata piuCorta che date due liste restituisca la lista con meno elementi. Utilizzare poi la funzione in un programma che acquisisca dall'utente due liste e visualizzi gli elementi della lista più corta."
      ]
    },
    {
      "cell_type": "code",
      "metadata": {
        "colab": {
          "base_uri": "https://localhost:8080/"
        },
        "id": "ywBi36_GZwCX",
        "outputId": "eebb8426-db89-40c7-fcaf-d904097172e3"
      },
      "source": [
        "listaInput1=[int(n) for n in input(\"inserisci numeri: \").split()]\n",
        "listaInput2=[int(n) for n in input(\"inserisci numeri: \").split()]\n",
        "\n",
        "def piuCorta(lis1,lis2):\n",
        " if len(lis1) < len(lis2):\n",
        "   return (lis1)\n",
        " else:\n",
        "   return (lis2)\n",
        "   \n",
        "piuCorta(listaInput1,listaInput2)\n",
        "  "
      ],
      "execution_count": null,
      "outputs": [
        {
          "name": "stdout",
          "output_type": "stream",
          "text": [
            "inserisci numeri: 2\n",
            "inserisci numeri: 3\n"
          ]
        },
        {
          "output_type": "execute_result",
          "data": {
            "text/plain": [
              "[3]"
            ]
          },
          "metadata": {},
          "execution_count": 6
        }
      ]
    },
    {
      "cell_type": "markdown",
      "metadata": {
        "id": "IgeG2j5ot8ym"
      },
      "source": [
        "3. scrivere una funzione chiamata costruisciLista che dati due numeri interi restituisca la lista formata da tutti i numeri interi compresi tra i due numeri dati. Utilizzare poi la funzione in un programma che acquisisca dall'utente due numeri e visualizzi la lista formata da tutti i numeri interi compresi tra i due numeri dati ma a partire dal più grande fino al più piccolo.\n"
      ]
    },
    {
      "cell_type": "code",
      "metadata": {
        "colab": {
          "base_uri": "https://localhost:8080/"
        },
        "id": "eskUVKUtuKQs",
        "outputId": "7c369669-7d1a-4981-91a5-2a02b0f906a6"
      },
      "source": [
        "def costruisciLista(x,y):\n",
        "  z = [i for i in range(x+1,y)]\n",
        "  z.reverse()\n",
        "  return z\n",
        "costruisciLista(int(input(\"inserire il primo numero: \")), int(input(\"inserire il secondo numero:\")))"
      ],
      "execution_count": null,
      "outputs": [
        {
          "name": "stdout",
          "output_type": "stream",
          "text": [
            "inserire il primo numero: 2\n",
            "inserire il secondo numero:3\n"
          ]
        },
        {
          "output_type": "execute_result",
          "data": {
            "text/plain": [
              "[]"
            ]
          },
          "metadata": {},
          "execution_count": 7
        }
      ]
    },
    {
      "cell_type": "markdown",
      "metadata": {
        "id": "5PkQR7FhuQfB"
      },
      "source": [
        "4. scrivere una funzione chiamata valoreAssoluto che dato un numero restituisca il suo valore assoluto. Utilizzare poi questa funzione per determinare il valore assoluto degli elementi di una lista inserita dall'utente."
      ]
    },
    {
      "cell_type": "code",
      "metadata": {
        "colab": {
          "base_uri": "https://localhost:8080/"
        },
        "id": "PMQRCGwZuSnT",
        "outputId": "a89794d6-fe7d-4b3c-fdce-be82cf1806e9"
      },
      "source": [
        "arr = input('inserisci un numero:')\n",
        "\n",
        "def valore_assoluto(n):\n",
        "    return abs(n)\n",
        "print([valore_assoluto(float(i))for i in arr])"
      ],
      "execution_count": null,
      "outputs": [
        {
          "output_type": "stream",
          "name": "stdout",
          "text": [
            "inserisci un numero:3\n",
            "[3.0]\n"
          ]
        }
      ]
    },
    {
      "cell_type": "markdown",
      "metadata": {
        "id": "0-RerJoJuwDB"
      },
      "source": [
        "5. scrivere una funzione chiamata scambia che data una lista scambi il primo elemento con l'ultimo, il secondo con il penultimo e così via. Utilizzare poi la funzione in un programma che acquisisca dall'utente una lista di 10 elementi e li visualizzi scambiati."
      ]
    },
    {
      "cell_type": "code",
      "metadata": {
        "colab": {
          "base_uri": "https://localhost:8080/"
        },
        "id": "m93ETGawuxYc",
        "outputId": "c35bc2fe-839d-4ae3-ddd0-df5e6441850c"
      },
      "source": [
        "def scambia(lst):\n",
        "   lstcopia= lst[:]\n",
        "   for i in range(10):\n",
        "     lst[i] = lstcopia[9-i]\n",
        "   return lst\n",
        "\n",
        "lst = [input('inserisci un elemento:')for i in range(10)]\n",
        "print(scambia(lst))"
      ],
      "execution_count": null,
      "outputs": [
        {
          "output_type": "stream",
          "name": "stdout",
          "text": [
            "inserisci un elemento:3\n",
            "inserisci un elemento:4\n",
            "inserisci un elemento:7\n",
            "inserisci un elemento:7\n",
            "inserisci un elemento:9\n",
            "inserisci un elemento:6\n",
            "inserisci un elemento:8\n",
            "inserisci un elemento:8\n",
            "inserisci un elemento:9\n",
            "inserisci un elemento:7\n",
            "['7', '9', '8', '8', '6', '9', '7', '7', '4', '3']\n"
          ]
        }
      ]
    },
    {
      "cell_type": "markdown",
      "metadata": {
        "id": "K2myMwqMu0A2"
      },
      "source": [
        "6. scrivere una funzione lambda che dati due numeri calcoli la loro somma. Utilizzare la funzione in un programma che chieda all'utente due numeri interi e visualizzi la loro somma.\n"
      ]
    },
    {
      "cell_type": "code",
      "metadata": {
        "colab": {
          "base_uri": "https://localhost:8080/"
        },
        "id": "Q1LE7vcuu2J-",
        "outputId": "1a1f2d2b-36b8-4b53-8340-2ac6e2d095dc"
      },
      "source": [
        "l = lambda x,y: x + y\n",
        "l(int(input('')), int(input('')))"
      ],
      "execution_count": null,
      "outputs": [
        {
          "name": "stdout",
          "output_type": "stream",
          "text": [
            "7\n",
            "9\n"
          ]
        },
        {
          "output_type": "execute_result",
          "data": {
            "text/plain": [
              "16"
            ]
          },
          "metadata": {},
          "execution_count": 10
        }
      ]
    },
    {
      "cell_type": "markdown",
      "metadata": {
        "id": "7QxZQdVku38G"
      },
      "source": [
        "7. scrivere un programma che utilizzi una lambda function per aumentare di 10 unità tutti gli elementi di una lista di interi inserita dall'utente."
      ]
    },
    {
      "cell_type": "code",
      "metadata": {
        "colab": {
          "base_uri": "https://localhost:8080/"
        },
        "id": "zyYWSIURu6W0",
        "outputId": "ee1b8a67-b304-416b-d8b9-439f1c3562e7"
      },
      "source": [
        "lista1 = [int(n) for n in input(\"inserisci numeri: \").split()]\n",
        "lista = list(map(lambda x: x + 10, lista1))\n",
        "print(lista)"
      ],
      "execution_count": null,
      "outputs": [
        {
          "output_type": "stream",
          "name": "stdout",
          "text": [
            "inserisci numeri: 8\n",
            "[18]\n"
          ]
        }
      ]
    },
    {
      "cell_type": "markdown",
      "metadata": {
        "id": "LSFCzV8Pu8M9"
      },
      "source": [
        "8. scrivere una funzione lambda che sostituisca il valore 0 se il parametro è negativo, il valore del parametro se è positivo. Utilizzare poi la funzione in un programma che chieda all'utente i 10 elementi di una lista e visualizzi la lista con il valore 0 al posto dei numeri negativi."
      ]
    },
    {
      "cell_type": "code",
      "metadata": {
        "colab": {
          "base_uri": "https://localhost:8080/"
        },
        "id": "IOCYBdceu-E9",
        "outputId": "b522151b-2789-47ae-c426-1bd39b977e1e"
      },
      "source": [
        "List1 = [int(n) for n in input(\"inserisci numeri: \").split()]\n",
        "list2 = list(map(lambda x: x if x>0 else 0, List1))\n",
        "print(list2)"
      ],
      "execution_count": null,
      "outputs": [
        {
          "output_type": "stream",
          "name": "stdout",
          "text": [
            "inserisci numeri: 3\n",
            "[3]\n"
          ]
        }
      ]
    },
    {
      "cell_type": "markdown",
      "metadata": {
        "id": "uUjxnPw-u_u1"
      },
      "source": [
        "9. scrivere un programma che calcoli il fattoriale di un numero utilizzando una lambda function. Provare a realizzare una lambda function ricorsiva (per la ricorsione, google it...)"
      ]
    },
    {
      "cell_type": "code",
      "metadata": {
        "colab": {
          "base_uri": "https://localhost:8080/"
        },
        "id": "EfMF3uDsvDC8",
        "outputId": "9db94c04-c8dc-436e-a02e-b15e85686d4e"
      },
      "source": [
        "lamFunc = lambda num : 1 if num <= 1 else num*lamFunc(num-1)\n",
        "number = int(input('enter number:'))\n",
        "print(str(number)+ ' != '+str(lamFunc(number)))"
      ],
      "execution_count": null,
      "outputs": [
        {
          "output_type": "stream",
          "name": "stdout",
          "text": [
            "enter number:8\n",
            "8 != 40320\n"
          ]
        }
      ]
    }
  ]
}